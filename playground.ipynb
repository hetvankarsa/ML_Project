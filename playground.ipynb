{
 "cells": [
  {
   "cell_type": "code",
   "execution_count": 42,
   "metadata": {},
   "outputs": [],
   "source": [
    "# TODO: Make a proper cleaning phase before tokenizing\n",
    "# TODO: Vizualize the insights of the data we get along the way\n",
    "# TODO: For Alin, check collaborative ways to use Jupyter Notebook\n",
    "#       https://cocalc.com/doc/jupyter-notebook.html\n",
    "\n",
    "import pandas as pd\n",
    "import numpy as np\n",
    "import string"
   ]
  },
  {
   "cell_type": "code",
   "execution_count": 80,
   "metadata": {},
   "outputs": [],
   "source": [
    "# Load training dataset\n",
    "data = pd.read_csv('train.csv')"
   ]
  },
  {
   "cell_type": "code",
   "execution_count": 81,
   "metadata": {},
   "outputs": [
    {
     "data": {
      "text/html": [
       "<div>\n",
       "<style scoped>\n",
       "    .dataframe tbody tr th:only-of-type {\n",
       "        vertical-align: middle;\n",
       "    }\n",
       "\n",
       "    .dataframe tbody tr th {\n",
       "        vertical-align: top;\n",
       "    }\n",
       "\n",
       "    .dataframe thead th {\n",
       "        text-align: right;\n",
       "    }\n",
       "</style>\n",
       "<table border=\"1\" class=\"dataframe\">\n",
       "  <thead>\n",
       "    <tr style=\"text-align: right;\">\n",
       "      <th></th>\n",
       "      <th>id</th>\n",
       "      <th>keyword</th>\n",
       "      <th>location</th>\n",
       "      <th>text</th>\n",
       "      <th>target</th>\n",
       "    </tr>\n",
       "  </thead>\n",
       "  <tbody>\n",
       "    <tr>\n",
       "      <th>0</th>\n",
       "      <td>1</td>\n",
       "      <td>NaN</td>\n",
       "      <td>NaN</td>\n",
       "      <td>Our Deeds are the Reason of this #earthquake M...</td>\n",
       "      <td>1</td>\n",
       "    </tr>\n",
       "    <tr>\n",
       "      <th>1</th>\n",
       "      <td>4</td>\n",
       "      <td>NaN</td>\n",
       "      <td>NaN</td>\n",
       "      <td>Forest fire near La Ronge Sask. Canada</td>\n",
       "      <td>1</td>\n",
       "    </tr>\n",
       "    <tr>\n",
       "      <th>2</th>\n",
       "      <td>5</td>\n",
       "      <td>NaN</td>\n",
       "      <td>NaN</td>\n",
       "      <td>All residents asked to 'shelter in place' are ...</td>\n",
       "      <td>1</td>\n",
       "    </tr>\n",
       "    <tr>\n",
       "      <th>3</th>\n",
       "      <td>6</td>\n",
       "      <td>NaN</td>\n",
       "      <td>NaN</td>\n",
       "      <td>13,000 people receive #wildfires evacuation or...</td>\n",
       "      <td>1</td>\n",
       "    </tr>\n",
       "    <tr>\n",
       "      <th>4</th>\n",
       "      <td>7</td>\n",
       "      <td>NaN</td>\n",
       "      <td>NaN</td>\n",
       "      <td>Just got sent this photo from Ruby #Alaska as ...</td>\n",
       "      <td>1</td>\n",
       "    </tr>\n",
       "  </tbody>\n",
       "</table>\n",
       "</div>"
      ],
      "text/plain": [
       "   id keyword location                                               text  \\\n",
       "0   1     NaN      NaN  Our Deeds are the Reason of this #earthquake M...   \n",
       "1   4     NaN      NaN             Forest fire near La Ronge Sask. Canada   \n",
       "2   5     NaN      NaN  All residents asked to 'shelter in place' are ...   \n",
       "3   6     NaN      NaN  13,000 people receive #wildfires evacuation or...   \n",
       "4   7     NaN      NaN  Just got sent this photo from Ruby #Alaska as ...   \n",
       "\n",
       "   target  \n",
       "0       1  \n",
       "1       1  \n",
       "2       1  \n",
       "3       1  \n",
       "4       1  "
      ]
     },
     "execution_count": 81,
     "metadata": {},
     "output_type": "execute_result"
    }
   ],
   "source": [
    "# Preview data\n",
    "data.head()"
   ]
  },
  {
   "cell_type": "markdown",
   "metadata": {},
   "source": [
    "# Data Cleaning\n",
    "\n",
    "### Steps to do:\n",
    "-  ~~Use ID as index ~~\n",
    "- Spaces (keywords having %20 instead of ' ')\n",
    "- Unknown characters (try to parse unicode characters properly)\n",
    "- Lowercase everything\n",
    "- Links (possibly a feature, check later)\n",
    "- Punctuation\n",
    "- Stop words\n",
    "- Spelling errors\n",
    "- Stemming and lemmatization\n",
    "- Locations (we need to filter them and find real cities, and replace the initial value with the found value, otherwise get rid of location)\n",
    "- Tokenizing"
   ]
  },
  {
   "cell_type": "code",
   "execution_count": 82,
   "metadata": {},
   "outputs": [],
   "source": [
    "# Use id column as index\n",
    "data.set_index('id', inplace=True)"
   ]
  },
  {
   "cell_type": "code",
   "execution_count": 84,
   "metadata": {},
   "outputs": [
    {
     "ename": "AttributeError",
     "evalue": "'float' object has no attribute 'replace'",
     "output_type": "error",
     "traceback": [
      "\u001b[0;31m---------------------------------------------------------------------------\u001b[0m",
      "\u001b[0;31mAttributeError\u001b[0m                            Traceback (most recent call last)",
      "\u001b[0;32m<ipython-input-84-b162215d8ad3>\u001b[0m in \u001b[0;36m<module>\u001b[0;34m\u001b[0m\n\u001b[0;32m----> 1\u001b[0;31m \u001b[0mdata\u001b[0m\u001b[0;34m[\u001b[0m\u001b[0;34m'keyword'\u001b[0m\u001b[0;34m]\u001b[0m\u001b[0;34m.\u001b[0m\u001b[0mapply\u001b[0m\u001b[0;34m(\u001b[0m\u001b[0;32mlambda\u001b[0m \u001b[0mx\u001b[0m\u001b[0;34m:\u001b[0m \u001b[0mx\u001b[0m\u001b[0;34m.\u001b[0m\u001b[0mreplace\u001b[0m\u001b[0;34m(\u001b[0m\u001b[0;34m'%20'\u001b[0m\u001b[0;34m,\u001b[0m \u001b[0;34m' '\u001b[0m\u001b[0;34m)\u001b[0m \u001b[0;32mif\u001b[0m \u001b[0mx\u001b[0m \u001b[0;32mis\u001b[0m \u001b[0;32mnot\u001b[0m \u001b[0;32mNone\u001b[0m \u001b[0;32melse\u001b[0m \u001b[0;34m''\u001b[0m\u001b[0;34m)\u001b[0m\u001b[0;34m\u001b[0m\u001b[0;34m\u001b[0m\u001b[0m\n\u001b[0m",
      "\u001b[0;32m~/.local/lib/python3.7/site-packages/pandas/core/series.py\u001b[0m in \u001b[0;36mapply\u001b[0;34m(self, func, convert_dtype, args, **kwds)\u001b[0m\n\u001b[1;32m   3589\u001b[0m             \u001b[0;32melse\u001b[0m\u001b[0;34m:\u001b[0m\u001b[0;34m\u001b[0m\u001b[0;34m\u001b[0m\u001b[0m\n\u001b[1;32m   3590\u001b[0m                 \u001b[0mvalues\u001b[0m \u001b[0;34m=\u001b[0m \u001b[0mself\u001b[0m\u001b[0;34m.\u001b[0m\u001b[0mastype\u001b[0m\u001b[0;34m(\u001b[0m\u001b[0mobject\u001b[0m\u001b[0;34m)\u001b[0m\u001b[0;34m.\u001b[0m\u001b[0mvalues\u001b[0m\u001b[0;34m\u001b[0m\u001b[0;34m\u001b[0m\u001b[0m\n\u001b[0;32m-> 3591\u001b[0;31m                 \u001b[0mmapped\u001b[0m \u001b[0;34m=\u001b[0m \u001b[0mlib\u001b[0m\u001b[0;34m.\u001b[0m\u001b[0mmap_infer\u001b[0m\u001b[0;34m(\u001b[0m\u001b[0mvalues\u001b[0m\u001b[0;34m,\u001b[0m \u001b[0mf\u001b[0m\u001b[0;34m,\u001b[0m \u001b[0mconvert\u001b[0m\u001b[0;34m=\u001b[0m\u001b[0mconvert_dtype\u001b[0m\u001b[0;34m)\u001b[0m\u001b[0;34m\u001b[0m\u001b[0;34m\u001b[0m\u001b[0m\n\u001b[0m\u001b[1;32m   3592\u001b[0m \u001b[0;34m\u001b[0m\u001b[0m\n\u001b[1;32m   3593\u001b[0m         \u001b[0;32mif\u001b[0m \u001b[0mlen\u001b[0m\u001b[0;34m(\u001b[0m\u001b[0mmapped\u001b[0m\u001b[0;34m)\u001b[0m \u001b[0;32mand\u001b[0m \u001b[0misinstance\u001b[0m\u001b[0;34m(\u001b[0m\u001b[0mmapped\u001b[0m\u001b[0;34m[\u001b[0m\u001b[0;36m0\u001b[0m\u001b[0;34m]\u001b[0m\u001b[0;34m,\u001b[0m \u001b[0mSeries\u001b[0m\u001b[0;34m)\u001b[0m\u001b[0;34m:\u001b[0m\u001b[0;34m\u001b[0m\u001b[0;34m\u001b[0m\u001b[0m\n",
      "\u001b[0;32mpandas/_libs/lib.pyx\u001b[0m in \u001b[0;36mpandas._libs.lib.map_infer\u001b[0;34m()\u001b[0m\n",
      "\u001b[0;32m<ipython-input-84-b162215d8ad3>\u001b[0m in \u001b[0;36m<lambda>\u001b[0;34m(x)\u001b[0m\n\u001b[0;32m----> 1\u001b[0;31m \u001b[0mdata\u001b[0m\u001b[0;34m[\u001b[0m\u001b[0;34m'keyword'\u001b[0m\u001b[0;34m]\u001b[0m\u001b[0;34m.\u001b[0m\u001b[0mapply\u001b[0m\u001b[0;34m(\u001b[0m\u001b[0;32mlambda\u001b[0m \u001b[0mx\u001b[0m\u001b[0;34m:\u001b[0m \u001b[0mx\u001b[0m\u001b[0;34m.\u001b[0m\u001b[0mreplace\u001b[0m\u001b[0;34m(\u001b[0m\u001b[0;34m'%20'\u001b[0m\u001b[0;34m,\u001b[0m \u001b[0;34m' '\u001b[0m\u001b[0;34m)\u001b[0m \u001b[0;32mif\u001b[0m \u001b[0mx\u001b[0m \u001b[0;32mis\u001b[0m \u001b[0;32mnot\u001b[0m \u001b[0;32mNone\u001b[0m \u001b[0;32melse\u001b[0m \u001b[0;34m''\u001b[0m\u001b[0;34m)\u001b[0m\u001b[0;34m\u001b[0m\u001b[0;34m\u001b[0m\u001b[0m\n\u001b[0m",
      "\u001b[0;31mAttributeError\u001b[0m: 'float' object has no attribute 'replace'"
     ]
    }
   ],
   "source": [
    "# Replace %20 with spaces\n",
    "data['keyword'].apply(lambda x: x.replace('%20', ' ') if x is not None else '')"
   ]
  },
  {
   "cell_type": "code",
   "execution_count": 48,
   "metadata": {},
   "outputs": [
    {
     "name": "stderr",
     "output_type": "stream",
     "text": [
      "[nltk_data] Downloading package stopwords to\n",
      "[nltk_data]     /home/hassanalinali/nltk_data...\n",
      "[nltk_data]   Package stopwords is already up-to-date!\n",
      "[nltk_data] Downloading package punkt to\n",
      "[nltk_data]     /home/hassanalinali/nltk_data...\n",
      "[nltk_data]   Package punkt is already up-to-date!\n"
     ]
    }
   ],
   "source": [
    "# Loading in nltk and preparing the Stemmer and stopwords/punctuation\n",
    "from nltk.tokenize import word_tokenize\n",
    "from nltk.corpus import stopwords\n",
    "from nltk.stem.snowball import EnglishStemmer\n",
    "import nltk\n",
    "nltk.download(\"stopwords\")\n",
    "nltk.download('punkt')\n",
    "stemmer = EnglishStemmer()\n",
    "stop_words = set(stopwords.words('english')) "
   ]
  },
  {
   "cell_type": "code",
   "execution_count": 59,
   "metadata": {},
   "outputs": [],
   "source": [
    "# Tokenizing the sentences and making a list of all texts, keywords and locations\n",
    "\n",
    "list_sentence = []\n",
    "for i in range(len(data['text'])):\n",
    "    token = word_tokenize(data['text'].iloc[i])\n",
    "    list_sentence.append(token)\n",
    "list_keywords = ((data['keyword'].value_counts()).reset_index())['index']\n",
    "list_location = ((data['location'].value_counts()).reset_index())['index']\n",
    "list_keywords = list(list_keywords)\n",
    "list_location = list(list_location)\n",
    "for i in range(len(list_keywords)):\n",
    "    list_keywords[i] = list_keywords[i].replace('%20', ' ')"
   ]
  },
  {
   "cell_type": "code",
   "execution_count": 64,
   "metadata": {},
   "outputs": [],
   "source": [
    "# Examine only keywords for disaster tweets:\n",
    "# TODO: change keywords1 to a proper variable\n",
    "\n",
    "keywords1 = data[data['target'] == 1]['keyword'].value_counts().reset_index()['index']\n",
    "keywords1 = list(keywords1)\n",
    "\n",
    "# TODO: check for other formatting issues in the cleaning phase, not after\n",
    "for i in range(len(keywords1)):\n",
    "    keywords1[i] = keywords1[i].replace('%20', ' ')"
   ]
  },
  {
   "cell_type": "code",
   "execution_count": 71,
   "metadata": {},
   "outputs": [],
   "source": [
    "# Making a counting list of disaster words per sentence\n",
    "# TODO: Store the keyword found to check for duplicates and modify the count accordingly\n",
    "\n",
    "list_count = []\n",
    "for i in range(len(list_sentence)):\n",
    "    sentence = list_sentence[i]\n",
    "#     print(sentence)\n",
    "    count = 0\n",
    "    for j in range(len(sentence)):\n",
    "        for k in range(len(keywords1)):\n",
    "            # If the keyword was in the sentence\n",
    "            if sentence[j].casefold() == keywords1[k].casefold() and len(keywords1[k].split()) == 1:\n",
    "                count = count + 1\n",
    "#                 print(keywords1[k])\n",
    "            # If the keyword was part of a compound word/expression\n",
    "            elif len(keywords1[k].split()) == 2: #split words\n",
    "                if sentence[j].casefold() == keywords1[k].split()[0].casefold() and j+1 < len(sentence):\n",
    "                    if sentence[j+1].casefold() == keywords1[k].split()[1].casefold():\n",
    "                        count = count + 1\n",
    "#                         print(\"Compound: \" + keywords1[k] + \" - Split: \" + keywords1[k].split()[1])\n",
    "    list_count.append(count)\n",
    "#     print()\n",
    "data['keyword_count'] = list_count"
   ]
  },
  {
   "cell_type": "code",
   "execution_count": 72,
   "metadata": {},
   "outputs": [
    {
     "data": {
      "text/plain": [
       "0.2894056208105819"
      ]
     },
     "execution_count": 72,
     "metadata": {},
     "output_type": "execute_result"
    }
   ],
   "source": [
    "# Check if there is a correlation between the disaster tweets \n",
    "# and the amount of disaster keywords used in the sentence\n",
    "\n",
    "data['target'].corr(data['keyword_count'])"
   ]
  },
  {
   "cell_type": "code",
   "execution_count": 73,
   "metadata": {},
   "outputs": [],
   "source": [
    "# Make a feature out of hashtags\n",
    "# TODO: Discuss\n",
    "\n",
    "#cannot add punctuation or spaces to twitter hashtags\n",
    "list_hashtags = []\n",
    "for i in range(len(list_sentence)):\n",
    "    sentence = list_sentence[i]\n",
    "    list_pertweet = []\n",
    "    for j in range(len(sentence)):\n",
    "        if sentence[j] == '#' and j+1 < len(sentence):\n",
    "            list_pertweet.append(sentence[j+1])\n",
    "    if len(list_pertweet) > 0:\n",
    "        list_hashtags.append(list_pertweet)\n",
    "    else:\n",
    "        list_hashtags.append(np.nan)\n",
    "data['hashtags'] = list_hashtags"
   ]
  },
  {
   "cell_type": "code",
   "execution_count": 13,
   "metadata": {},
   "outputs": [],
   "source": [
    "location1 = data[data['target'] == 1]['location'].value_counts().reset_index()['index']\n",
    "list(location1)\n",
    "location_tok = []\n",
    "for i in range(len(location1)):\n",
    "    token = word_tokenize(location1[i])\n",
    "    token = list(filter(lambda token: token not in string.punctuation, token))\n",
    "    location_tok.append(token)\n",
    "#clean location for further processing\n",
    "#lowercase letter\n",
    "for i in range(len(location_tok)):\n",
    "    filtered_sentence = [w for w in location_tok[i] if not w in stop_words]\n",
    "    for j in range(len(filtered_sentence)):\n",
    "        filtered_sentence[j] = filtered_sentence[j].casefold()\n",
    "    location_tok[i] = filtered_sentence"
   ]
  },
  {
   "cell_type": "code",
   "execution_count": 14,
   "metadata": {},
   "outputs": [
    {
     "data": {
      "text/plain": [
       "0.07414225496523098"
      ]
     },
     "execution_count": 14,
     "metadata": {},
     "output_type": "execute_result"
    }
   ],
   "source": [
    "#does having a hashtag affect disaster status\n",
    "data['hashtags_bool'] = pd.notnull(data['hashtags'])\n",
    "data['target'].corr(data['hashtags_bool'])"
   ]
  },
  {
   "cell_type": "code",
   "execution_count": 15,
   "metadata": {},
   "outputs": [],
   "source": [
    "#location and keyword in hashtag\n",
    "set_location = set()\n",
    "set_keywords = set()\n",
    "list_count = []\n",
    "for i in range(len(location_tok)):\n",
    "    set_location = set_location.union(set(location_tok[i]))\n",
    "set_keywords = set(keywords1)\n",
    "for i in range(len(data['hashtags'])):\n",
    "    hashtags = data['hashtags'].iloc[i]\n",
    "    if hashtags != hashtags:\n",
    "        list_count.append(0)\n",
    "    else:\n",
    "        for j in range(len(hashtags)):\n",
    "            hashtags[j] = hashtags[j].casefold()\n",
    "        union_l = set(hashtags).intersection(set_location)\n",
    "        union_k = set(hashtags).intersection(set_keywords)\n",
    "        list_count.append(len(union_l) + len(union_k))\n",
    "data['hashtags_count'] = list_count"
   ]
  },
  {
   "cell_type": "code",
   "execution_count": 16,
   "metadata": {},
   "outputs": [
    {
     "data": {
      "text/plain": [
       "0.11169258276380911"
      ]
     },
     "execution_count": 16,
     "metadata": {},
     "output_type": "execute_result"
    }
   ],
   "source": [
    "data['target'].corr(data['hashtags_count'])"
   ]
  },
  {
   "cell_type": "code",
   "execution_count": 17,
   "metadata": {},
   "outputs": [],
   "source": [
    "#repeating methodology with text\n",
    "list_count = []\n",
    "sentence_t = []\n",
    "for i in range(len(list_sentence)):\n",
    "    sentence = list_sentence[i]\n",
    "    for j in range(len(sentence)):\n",
    "        sentence_t.append(sentence[j].casefold())\n",
    "    union_l = set(sentence).intersection(set_location)\n",
    "    union_k = set(sentence).intersection(set_keywords)\n",
    "    list_count.append(len(union_l) + len(union_k))\n",
    "data['text_count'] = list_count"
   ]
  },
  {
   "cell_type": "code",
   "execution_count": 18,
   "metadata": {},
   "outputs": [
    {
     "data": {
      "text/plain": [
       "0.056578539919026394"
      ]
     },
     "execution_count": 18,
     "metadata": {},
     "output_type": "execute_result"
    }
   ],
   "source": [
    "data['target'].corr(data['text_count'])"
   ]
  },
  {
   "cell_type": "code",
   "execution_count": 21,
   "metadata": {},
   "outputs": [],
   "source": [
    "#sentiment analysis\n",
    "from vaderSentiment.vaderSentiment import SentimentIntensityAnalyzer"
   ]
  },
  {
   "cell_type": "code",
   "execution_count": 22,
   "metadata": {},
   "outputs": [],
   "source": [
    "list_score = []\n",
    "analyzer = SentimentIntensityAnalyzer()\n",
    "for i in range(len(data['text'])):\n",
    "    score = analyzer.polarity_scores(data['text'].iloc[i])\n",
    "    list_score.append(score)"
   ]
  },
  {
   "cell_type": "code",
   "execution_count": 23,
   "metadata": {},
   "outputs": [],
   "source": [
    "#list_score[0]['neg']\n",
    "list_neg = []\n",
    "list_neu = []\n",
    "list_pos = []\n",
    "list_compound = []\n",
    "for i in range(len(list_score)):\n",
    "    list_neg.append(list_score[i]['neg'])\n",
    "    list_neu.append(list_score[i]['neu'])\n",
    "    list_pos.append(list_score[i]['pos'])\n",
    "    list_compound.append(list_score[i]['compound'])\n",
    "data['neg'] = list_neg\n",
    "data['neu'] = list_neu\n",
    "data['pos'] = list_pos\n",
    "data['compound'] = list_compound"
   ]
  },
  {
   "cell_type": "code",
   "execution_count": 24,
   "metadata": {},
   "outputs": [
    {
     "data": {
      "text/plain": [
       "-0.22032820261759334"
      ]
     },
     "execution_count": 24,
     "metadata": {},
     "output_type": "execute_result"
    }
   ],
   "source": [
    "data['target'].corr(data['neg']) #0.1298389384419161\n",
    "data['target'].corr(data['neu']) #0.02670054925813727\n",
    "data['target'].corr(data['pos']) #-0.20805222028816894\n",
    "data['target'].corr(data['compound']) #-0.22776956071990492"
   ]
  },
  {
   "cell_type": "code",
   "execution_count": 26,
   "metadata": {},
   "outputs": [],
   "source": [
    "import seaborn as sn"
   ]
  },
  {
   "cell_type": "code",
   "execution_count": 27,
   "metadata": {},
   "outputs": [
    {
     "data": {
      "text/plain": [
       "<matplotlib.axes._subplots.AxesSubplot at 0x7f1b0c5204d0>"
      ]
     },
     "execution_count": 27,
     "metadata": {},
     "output_type": "execute_result"
    },
    {
     "data": {
      "image/png": "[encoded data removed]",
      "text/plain": [
       "<Figure size 432x288 with 2 Axes>"
      ]
     },
     "metadata": {
      "needs_background": "light"
     },
     "output_type": "display_data"
    }
   ],
   "source": [
    "#correlation matrix\n",
    "data_corr = data[['target', 'neg', 'neu', 'pos', 'compound', 'text_count', 'hashtags_count', 'keyword_count']]\n",
    "corrMatrix = data_corr.corr()\n",
    "sn.heatmap(corrMatrix, annot=True)"
   ]
  },
  {
   "cell_type": "code",
   "execution_count": 28,
   "metadata": {},
   "outputs": [],
   "source": [
    "sentence_1  = data[data['target'] == 1]['text'] \n",
    "list_sentence1 = []\n",
    "for i in range(len(sentence_1)):\n",
    "    token = word_tokenize(sentence_1.iloc[i])\n",
    "    list_sentence1.append(token)"
   ]
  },
  {
   "cell_type": "code",
   "execution_count": 29,
   "metadata": {},
   "outputs": [],
   "source": [
    "#Feature: @user\n",
    "list_user = []\n",
    "for i in range(len(list_sentence1)):\n",
    "    sentence = list_sentence1[i]\n",
    "    for i in range(len(sentence)):\n",
    "        if sentence[i] == '@' and i+1 < len(sentence):\n",
    "            list_user.append(sentence[i+1])\n",
    "list_user = list(set(list_user))"
   ]
  },
  {
   "cell_type": "code",
   "execution_count": 30,
   "metadata": {},
   "outputs": [],
   "source": [
    "list_countuser = []\n",
    "for i in range(len(list_sentence)):\n",
    "    sentence = list_sentence[i]\n",
    "    count = 0\n",
    "    for j in range(len(sentence)):\n",
    "        if sentence[j] == '@' and j+1 < len(sentence):\n",
    "            for k in range(len(list_sentence1)):\n",
    "                sentence1 = list_sentence1[k]\n",
    "                for m in range(len(sentence1)):\n",
    "                    if sentence[j+1].casefold() == sentence1[m].casefold():\n",
    "                        count = count + 1\n",
    "    list_countuser.append(count)\n",
    "data['count_user'] = list_countuser"
   ]
  },
  {
   "cell_type": "code",
   "execution_count": 31,
   "metadata": {},
   "outputs": [
    {
     "data": {
      "text/plain": [
       "-0.013848793230842447"
      ]
     },
     "execution_count": 31,
     "metadata": {},
     "output_type": "execute_result"
    }
   ],
   "source": [
    "data['target'].corr(data['count_user'])"
   ]
  },
  {
   "cell_type": "code",
   "execution_count": 35,
   "metadata": {},
   "outputs": [],
   "source": [
    "#Bag of Words Model\n",
    "#https://medium.com/data-from-the-trenches/text-classification-the-first-step-toward-nlp-mastery-f5f95d525d73\n",
    "from sklearn.feature_extraction.text import CountVectorizer"
   ]
  },
  {
   "cell_type": "code",
   "execution_count": 36,
   "metadata": {},
   "outputs": [],
   "source": [
    "vectorizer = CountVectorizer(\n",
    "    stop_words=\"english\",\n",
    ")\n",
    "#upper and lower case in text??? multiple languages??? weird format????"
   ]
  },
  {
   "cell_type": "code",
   "execution_count": 37,
   "metadata": {},
   "outputs": [],
   "source": [
    "sentences = []\n",
    "for i in range(len(list_sentence)):\n",
    "    sentence = list_sentence[i]\n",
    "    for j in range(len(sentence)):\n",
    "        sentences.append(sentence[j])\n",
    "#fit vectorizer on the training text\n",
    "text_counts = vectorizer.fit_transform(sentences)\n",
    "# get the vectorizer's vocabulary\n",
    "inv_vocab = {v: k for k, v in vectorizer.vocabulary_.items()}\n",
    "vocabulary = [inv_vocab[i] for i in range(len(inv_vocab))]"
   ]
  },
  {
   "cell_type": "code",
   "execution_count": 38,
   "metadata": {},
   "outputs": [],
   "source": [
    "#TF-IDF\n",
    "#https://github.com/javedsha/text-classification/blob/master/Text%2BClassification%2Busing%2Bpython%2C%2Bscikit%2Band%2Bnltk.ipynb\n",
    "from sklearn.feature_extraction.text import TfidfTransformer\n",
    "tfidf_transformer = TfidfTransformer()\n",
    "text_tfidf = tfidf_transformer.fit_transform(text_counts)"
   ]
  },
  {
   "cell_type": "code",
   "execution_count": 39,
   "metadata": {},
   "outputs": [
    {
     "data": {
      "text/plain": [
       "(4, 21355)"
      ]
     },
     "execution_count": 39,
     "metadata": {},
     "output_type": "execute_result"
    }
   ],
   "source": [
    "#Example:\n",
    "#https://scikit-learn.org/stable/modules/generated/sklearn.feature_extraction.text.TfidfTransformer.html\n",
    "example = ['I', 'am', 'an', 'example']\n",
    "result_count = vectorizer.transform(example).toarray()\n",
    "result_count.shape\n",
    "#Take the count vector and transform to TF-IDF\n",
    "result_tfidf = tfidf_transformer.transform(result_count)\n",
    "result_tfidf.shape "
   ]
  },
  {
   "cell_type": "code",
   "execution_count": 40,
   "metadata": {},
   "outputs": [],
   "source": [
    "#N-gram\n",
    "from nltk import bigrams"
   ]
  },
  {
   "cell_type": "code",
   "execution_count": 41,
   "metadata": {},
   "outputs": [],
   "source": [
    "list_bigrams = []\n",
    "for i in range(len(list_sentence)):\n",
    "    string_bigrams = bigrams(list_sentence[i])\n",
    "    list_bigrams.append(string_bigrams)"
   ]
  },
  {
   "cell_type": "code",
   "execution_count": null,
   "metadata": {},
   "outputs": [],
   "source": []
  }
 ],
 "metadata": {
  "kernelspec": {
   "display_name": "Python 3",
   "language": "python",
   "name": "python3"
  },
  "language_info": {
   "codemirror_mode": {
    "name": "ipython",
    "version": 3
   },
   "file_extension": ".py",
   "mimetype": "text/x-python",
   "name": "python",
   "nbconvert_exporter": "python",
   "pygments_lexer": "ipython3",
   "version": "3.7.6"
  }
 },
 "nbformat": 4,
 "nbformat_minor": 2
}

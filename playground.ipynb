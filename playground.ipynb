{
 "cells": [
  {
   "cell_type": "code",
   "execution_count": 216,
   "metadata": {},
   "outputs": [],
   "source": [
    "import pandas as pd\n",
    "import numpy as np\n",
    "import string"
   ]
  },
  {
   "cell_type": "code",
   "execution_count": 36,
   "metadata": {},
   "outputs": [],
   "source": [
    "data = pd.read_csv('train.csv')"
   ]
  },
  {
   "cell_type": "code",
   "execution_count": 24,
   "metadata": {},
   "outputs": [
    {
     "data": {
      "text/plain": [
       "Index(['id', 'keyword', 'location', 'text', 'target'], dtype='object')"
      ]
     },
     "execution_count": 24,
     "metadata": {},
     "output_type": "execute_result"
    }
   ],
   "source": [
    "data.columns"
   ]
  },
  {
   "cell_type": "code",
   "execution_count": 20,
   "metadata": {},
   "outputs": [
    {
     "data": {
      "text/plain": [
       "0    0.57034\n",
       "1    0.42966\n",
       "Name: target, dtype: float64"
      ]
     },
     "execution_count": 20,
     "metadata": {},
     "output_type": "execute_result"
    }
   ],
   "source": [
    "data['target'].value_counts()/data['target'].count()"
   ]
  },
  {
   "cell_type": "code",
   "execution_count": 222,
   "metadata": {},
   "outputs": [
    {
     "name": "stderr",
     "output_type": "stream",
     "text": [
      "[nltk_data] Downloading package stopwords to /home/ioana/nltk_data...\n",
      "[nltk_data]   Unzipping corpora/stopwords.zip.\n",
      "[nltk_data] Downloading package punkt to /home/ioana/nltk_data...\n",
      "[nltk_data]   Package punkt is already up-to-date!\n"
     ]
    }
   ],
   "source": [
    "from nltk.tokenize import word_tokenize\n",
    "from nltk.corpus import stopwords\n",
    "from nltk.stem.snowball import EnglishStemmer\n",
    "import nltk\n",
    "nltk.download(\"stopwords\")\n",
    "nltk.download('punkt')\n",
    "stemmer = EnglishStemmer()\n",
    "stop_words = set(stopwords.words('english')) "
   ]
  },
  {
   "cell_type": "code",
   "execution_count": 88,
   "metadata": {},
   "outputs": [],
   "source": [
    "data['text'].isnull().sum()\n",
    "list_sentence = []\n",
    "for i in range(len(data['text'])):\n",
    "    token = word_tokenize(data['text'].iloc[i])\n",
    "    list_sentence.append(token)\n",
    "list_keywords = ((data['keyword'].value_counts()).reset_index())['index']\n",
    "list_location = ((data['location'].value_counts()).reset_index())['index']\n",
    "list_keywords = list(list_keywords)\n",
    "list_location = list(list_location)\n",
    "for i in range(len(list_keywords)):\n",
    "    list_keywords[i] = list_keywords[i].replace('%20', ' ')"
   ]
  },
  {
   "cell_type": "code",
   "execution_count": 140,
   "metadata": {},
   "outputs": [],
   "source": [
    "#examine only keywords for disaster tweets:\n",
    "keywords1 = data[data['target'] == 1]['keyword'].value_counts().reset_index()['index']\n",
    "keywords1 = list(keywords1)\n",
    "for i in range(len(keywords1)):\n",
    "    keywords1[i] = keywords1[i].replace('%20', ' ')"
   ]
  },
  {
   "cell_type": "code",
   "execution_count": 202,
   "metadata": {},
   "outputs": [],
   "source": [
    "list_count = []\n",
    "for i in range(len(list_sentence)):\n",
    "    sentence = list_sentence[i]\n",
    "    count = 0\n",
    "    for j in range(len(sentence)):\n",
    "        for k in range(len(keywords1)):\n",
    "            if sentence[j].casefold() == keywords1[k].casefold() and len(keywords1[k].split()) == 1:\n",
    "                count = count + 1\n",
    "            elif len(keywords1[k].split()) == 2: #split words\n",
    "                if sentence[j].casefold() == keywords1[k].split()[0].casefold() and j+1 < len(sentence):\n",
    "                    if sentence[j+1].casefold() == keywords1[k].split()[1].casefold():\n",
    "                        count = count + 1\n",
    "    list_count.append(count)\n",
    "data['keyword_count'] = list_count"
   ]
  },
  {
   "cell_type": "code",
   "execution_count": 204,
   "metadata": {},
   "outputs": [
    {
     "data": {
      "text/plain": [
       "0.28940562081058163"
      ]
     },
     "execution_count": 204,
     "metadata": {},
     "output_type": "execute_result"
    }
   ],
   "source": [
    "data['target'].corr(data['keyword_count'])"
   ]
  },
  {
   "cell_type": "code",
   "execution_count": 196,
   "metadata": {},
   "outputs": [],
   "source": [
    "#cannot add punctuation or spaces to twitter hashtags\n",
    "list_hashtags = []\n",
    "for i in range(len(list_sentence)):\n",
    "    sentence = list_sentence[i]\n",
    "    list_pertweet = []\n",
    "    for j in range(len(sentence)):\n",
    "        if sentence[j] == '#' and j+1 < len(sentence):\n",
    "            list_pertweet.append(sentence[j+1])\n",
    "    if len(list_pertweet) > 0:\n",
    "        list_hashtags.append(list_pertweet)\n",
    "    else:\n",
    "        list_hashtags.append(np.nan)\n",
    "data['hashtags'] = list_hashtags"
   ]
  },
  {
   "cell_type": "code",
   "execution_count": 293,
   "metadata": {},
   "outputs": [],
   "source": [
    "location1 = data[data['target'] == 1]['location'].value_counts().reset_index()['index']\n",
    "list(location1)\n",
    "location_tok = []\n",
    "for i in range(len(location1)):\n",
    "    token = word_tokenize(location1[i])\n",
    "    token = list(filter(lambda token: token not in string.punctuation, token))\n",
    "    location_tok.append(token)\n",
    "#clean location for further processing\n",
    "#lowercase letter\n",
    "for i in range(len(location_tok)):\n",
    "    filtered_sentence = [w for w in location_tok[i] if not w in stop_words]\n",
    "    for j in range(len(filtered_sentence)):\n",
    "        filtered_sentence[j] = filtered_sentence[j].casefold()\n",
    "    location_tok[i] = filtered_sentence"
   ]
  },
  {
   "cell_type": "code",
   "execution_count": 239,
   "metadata": {},
   "outputs": [
    {
     "data": {
      "text/plain": [
       "0.07414225496523114"
      ]
     },
     "execution_count": 239,
     "metadata": {},
     "output_type": "execute_result"
    }
   ],
   "source": [
    "#does having a hashtag affect disaster status\n",
    "data['hashtags_bool'] = pd.notnull(data['hashtags'])\n",
    "data['target'].corr(data['hashtags_bool'])"
   ]
  },
  {
   "cell_type": "code",
   "execution_count": 332,
   "metadata": {},
   "outputs": [],
   "source": [
    "#location and keyword in hashtag\n",
    "set_location = set()\n",
    "set_keywords = set()\n",
    "list_count = []\n",
    "for i in range(len(location_tok)):\n",
    "    set_location = set_location.union(set(location_tok[i]))\n",
    "set_keywords = set(keywords1)\n",
    "for i in range(len(data['hashtags'])):\n",
    "    hashtags = data['hashtags'].iloc[i]\n",
    "    if hashtags != hashtags:\n",
    "        list_count.append(0)\n",
    "    else:\n",
    "        for j in range(len(hashtags)):\n",
    "            hashtags[j] = hashtags[j].casefold()\n",
    "        union_l = set(hashtags).intersection(set_location)\n",
    "        union_k = set(hashtags).intersection(set_keywords)\n",
    "        list_count.append(len(union_l) + len(union_k))\n",
    "data['hashtags_count'] = list_count"
   ]
  },
  {
   "cell_type": "code",
   "execution_count": 333,
   "metadata": {},
   "outputs": [
    {
     "data": {
      "text/plain": [
       "0.11169258276380914"
      ]
     },
     "execution_count": 333,
     "metadata": {},
     "output_type": "execute_result"
    }
   ],
   "source": [
    "data['target'].corr(data['hashtags_count'])"
   ]
  },
  {
   "cell_type": "code",
   "execution_count": 345,
   "metadata": {},
   "outputs": [],
   "source": [
    "#repeating methodology with text\n",
    "list_count = []\n",
    "sentence_t = []\n",
    "for i in range(len(list_sentence)):\n",
    "    sentence = list_sentence[i]\n",
    "    for j in range(len(sentence)):\n",
    "        sentence_t.append(sentence[j].casefold())\n",
    "    union_l = set(sentence).intersection(set_location)\n",
    "    union_k = set(sentence).intersection(set_keywords)\n",
    "    list_count.append(len(union_l) + len(union_k))\n",
    "data['text_count'] = list_count"
   ]
  },
  {
   "cell_type": "code",
   "execution_count": 347,
   "metadata": {},
   "outputs": [
    {
     "data": {
      "text/plain": [
       "0.0565785399190264"
      ]
     },
     "execution_count": 347,
     "metadata": {},
     "output_type": "execute_result"
    }
   ],
   "source": [
    "data['target'].corr(data['text_count'])"
   ]
  },
  {
   "cell_type": "code",
   "execution_count": 351,
   "metadata": {},
   "outputs": [],
   "source": [
    "#sentiment analysis\n",
    "from vaderSentiment.vaderSentiment import SentimentIntensityAnalyzer"
   ]
  },
  {
   "cell_type": "code",
   "execution_count": 358,
   "metadata": {},
   "outputs": [],
   "source": [
    "list_score = []\n",
    "analyzer = SentimentIntensityAnalyzer()\n",
    "for i in range(len(data['text'])):\n",
    "    score = analyzer.polarity_scores(data['text'].iloc[i])\n",
    "    list_score.append(score)"
   ]
  },
  {
   "cell_type": "code",
   "execution_count": 363,
   "metadata": {},
   "outputs": [],
   "source": [
    "#list_score[0]['neg']\n",
    "list_neg = []\n",
    "list_neu = []\n",
    "list_pos = []\n",
    "list_compound = []\n",
    "for i in range(len(list_score)):\n",
    "    list_neg.append(list_score[i]['neg'])\n",
    "    list_neu.append(list_score[i]['neu'])\n",
    "    list_pos.append(list_score[i]['pos'])\n",
    "    list_compound.append(list_score[i]['compound'])\n",
    "data['neg'] = list_neg\n",
    "data['neu'] = list_neu\n",
    "data['pos'] = list_pos\n",
    "data['compound'] = list_compound"
   ]
  },
  {
   "cell_type": "code",
   "execution_count": 371,
   "metadata": {},
   "outputs": [
    {
     "data": {
      "text/plain": [
       "-0.22776956071990492"
      ]
     },
     "execution_count": 371,
     "metadata": {},
     "output_type": "execute_result"
    }
   ],
   "source": [
    "data['target'].corr(data['neg']) #0.1298389384419161\n",
    "data['target'].corr(data['neu']) #0.02670054925813727\n",
    "data['target'].corr(data['pos']) #-0.20805222028816894\n",
    "data['target'].corr(data['compound']) #-0.22776956071990492"
   ]
  },
  {
   "cell_type": "code",
   "execution_count": 373,
   "metadata": {},
   "outputs": [],
   "source": [
    "import seaborn as sn"
   ]
  },
  {
   "cell_type": "code",
   "execution_count": 374,
   "metadata": {},
   "outputs": [
    {
     "data": {
      "text/plain": [
       "<matplotlib.axes._subplots.AxesSubplot at 0x7f2b74eaf2b0>"
      ]
     },
     "execution_count": 374,
     "metadata": {},
     "output_type": "execute_result"
    },
    {
     "data": {
      "image/png": "[encoded data removed]",
      "text/plain": [
       "<Figure size 432x288 with 2 Axes>"
      ]
     },
     "metadata": {
      "needs_background": "light"
     },
     "output_type": "display_data"
    }
   ],
   "source": [
    "#correlation matrix\n",
    "data_corr = data[['target', 'neg', 'neu', 'pos', 'compound', 'text_count', 'hashtags_count', 'keyword_count']]\n",
    "corrMatrix = data_corr.corr()\n",
    "sn.heatmap(corrMatrix, annot=True)"
   ]
  },
  {
   "cell_type": "code",
   "execution_count": null,
   "metadata": {},
   "outputs": [],
   "source": []
  }
 ],
 "metadata": {
  "kernelspec": {
   "display_name": "Python 3",
   "language": "python",
   "name": "python3"
  },
  "language_info": {
   "codemirror_mode": {
    "name": "ipython",
    "version": 3
   },
   "file_extension": ".py",
   "mimetype": "text/x-python",
   "name": "python",
   "nbconvert_exporter": "python",
   "pygments_lexer": "ipython3",
   "version": "3.7.3"
  }
 },
 "nbformat": 4,
 "nbformat_minor": 2
}
